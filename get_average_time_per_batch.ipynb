{
  "nbformat": 4,
  "nbformat_minor": 0,
  "metadata": {
    "colab": {
      "provenance": [],
      "authorship_tag": "ABX9TyPfg3YpalsPGGWt3Y9Zhzs8",
      "include_colab_link": true
    },
    "kernelspec": {
      "name": "python3",
      "display_name": "Python 3"
    },
    "language_info": {
      "name": "python"
    }
  },
  "cells": [
    {
      "cell_type": "markdown",
      "metadata": {
        "id": "view-in-github",
        "colab_type": "text"
      },
      "source": [
        "<a href=\"https://colab.research.google.com/github/YifanYyds/Deep_Learning_Final/blob/main/get_average_time_per_batch.ipynb\" target=\"_parent\"><img src=\"https://colab.research.google.com/assets/colab-badge.svg\" alt=\"Open In Colab\"/></a>"
      ]
    },
    {
      "cell_type": "code",
      "execution_count": 1,
      "metadata": {
        "colab": {
          "base_uri": "https://localhost:8080/"
        },
        "id": "62gOTkARqpOr",
        "outputId": "ea9c7bb7-d8b1-44e0-bef6-c0a066e98aa6"
      },
      "outputs": [
        {
          "output_type": "stream",
          "name": "stdout",
          "text": [
            "Mounted at /content/drive\n"
          ]
        }
      ],
      "source": [
        "from google.colab import drive\n",
        "drive.mount('/content/drive')\n"
      ]
    },
    {
      "cell_type": "code",
      "source": [
        "import pickle\n",
        "\n",
        "# Replace with the path to your .pkl file\n",
        "lstm_file_path = '/content/drive/My Drive/best_model_final_project/lstm_global_epoch_times.pkl'\n",
        "\n",
        "with open(lstm_file_path, 'rb') as file:\n",
        "    lstm_data = pickle.load(file)\n"
      ],
      "metadata": {
        "id": "64UtknevqyJ2"
      },
      "execution_count": 2,
      "outputs": []
    },
    {
      "cell_type": "code",
      "source": [
        "import numpy as np\n",
        "\n",
        "lstm_average_value = np.mean(lstm_data)\n",
        "print(\"LSTM average training time per batch:\", lstm_average_value)\n"
      ],
      "metadata": {
        "colab": {
          "base_uri": "https://localhost:8080/"
        },
        "id": "aY7gLeXDq0Hg",
        "outputId": "d653af57-55fa-457a-f69e-90b33538dfda"
      },
      "execution_count": 3,
      "outputs": [
        {
          "output_type": "stream",
          "name": "stdout",
          "text": [
            "LSTM average training time per batch: 0.06292901959745524\n"
          ]
        }
      ]
    },
    {
      "cell_type": "code",
      "source": [
        "import pickle\n",
        "\n",
        "# Replace with the path to your .pkl file\n",
        "rnn_file_path = '/content/drive/My Drive/best_model_final_project/rnn_global_epoch_times.pkl'\n",
        "\n",
        "with open(rnn_file_path, 'rb') as file:\n",
        "    rnn_data = pickle.load(file)\n"
      ],
      "metadata": {
        "id": "jPJ0SgDsrjE_"
      },
      "execution_count": 4,
      "outputs": []
    },
    {
      "cell_type": "code",
      "source": [
        "import numpy as np\n",
        "\n",
        "rnn_average_value = np.mean(rnn_data)\n",
        "print(\"RNN average training time per batch:\", rnn_average_value)\n"
      ],
      "metadata": {
        "colab": {
          "base_uri": "https://localhost:8080/"
        },
        "id": "KiejUFw8rjcG",
        "outputId": "49a70b6a-5e10-443a-b709-773c4f247a02"
      },
      "execution_count": 5,
      "outputs": [
        {
          "output_type": "stream",
          "name": "stdout",
          "text": [
            "RNN average training time per batch: 0.3371764089771449\n"
          ]
        }
      ]
    }
  ]
}