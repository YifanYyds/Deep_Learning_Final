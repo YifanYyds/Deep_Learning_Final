{
  "cells": [
    {
      "cell_type": "markdown",
      "metadata": {
        "id": "view-in-github",
        "colab_type": "text"
      },
      "source": [
        "<a href=\"https://colab.research.google.com/github/YifanYyds/Deep_Learning_Final/blob/main/SimpleRNN_final.ipynb\" target=\"_parent\"><img src=\"https://colab.research.google.com/assets/colab-badge.svg\" alt=\"Open In Colab\"/></a>"
      ]
    },
    {
      "cell_type": "code",
      "execution_count": 1,
      "metadata": {
        "colab": {
          "base_uri": "https://localhost:8080/"
        },
        "id": "STB00sbUvXGT",
        "outputId": "2b454e5f-2233-415f-d551-c2d9f37789f4"
      },
      "outputs": [
        {
          "output_type": "stream",
          "name": "stdout",
          "text": [
            "Mounted at /content/drive\n"
          ]
        }
      ],
      "source": [
        "import pandas as pd\n",
        "from google.colab import drive\n",
        "drive.mount('/content/drive')\n",
        "train_df = pd.read_csv(\"/content/drive/MyDrive/DL_dataset/train_df.csv\", header=0, delimiter=\",\")\n",
        "val_df = pd.read_csv(\"/content/drive/MyDrive/DL_dataset/val_df.csv\", header=0, delimiter=\",\")\n",
        "test_df = pd.read_csv(\"/content/drive/MyDrive/DL_dataset/test_df.csv\", header=0, delimiter=\",\")\n"
      ]
    },
    {
      "cell_type": "code",
      "execution_count": 2,
      "metadata": {
        "id": "mUgI6bp_Lv3M"
      },
      "outputs": [],
      "source": [
        "import shutil\n",
        "import os\n",
        "\n",
        "# Check if the directory exists\n",
        "if os.path.exists('my_dir/keras_simple_rnn_tuning'):\n",
        "    # If it exists, delete it\n",
        "    shutil.rmtree('my_dir/keras_simple_rnn_tuning')\n"
      ]
    },
    {
      "cell_type": "code",
      "execution_count": 3,
      "metadata": {
        "colab": {
          "base_uri": "https://localhost:8080/"
        },
        "id": "y9Vi1FCRwlbT",
        "outputId": "cef5870f-87bc-49aa-d65a-44678503293b"
      },
      "outputs": [
        {
          "output_type": "stream",
          "name": "stdout",
          "text": [
            "Collecting keras-tuner\n",
            "  Downloading keras_tuner-1.4.6-py3-none-any.whl (128 kB)\n",
            "\u001b[2K     \u001b[90m━━━━━━━━━━━━━━━━━━━━━━━━━━━━━━━━━━━━━━━━\u001b[0m \u001b[32m128.9/128.9 kB\u001b[0m \u001b[31m1.5 MB/s\u001b[0m eta \u001b[36m0:00:00\u001b[0m\n",
            "\u001b[?25hRequirement already satisfied: keras in /usr/local/lib/python3.10/dist-packages (from keras-tuner) (2.15.0)\n",
            "Requirement already satisfied: packaging in /usr/local/lib/python3.10/dist-packages (from keras-tuner) (23.2)\n",
            "Requirement already satisfied: requests in /usr/local/lib/python3.10/dist-packages (from keras-tuner) (2.31.0)\n",
            "Collecting kt-legacy (from keras-tuner)\n",
            "  Downloading kt_legacy-1.0.5-py3-none-any.whl (9.6 kB)\n",
            "Requirement already satisfied: charset-normalizer<4,>=2 in /usr/local/lib/python3.10/dist-packages (from requests->keras-tuner) (3.3.2)\n",
            "Requirement already satisfied: idna<4,>=2.5 in /usr/local/lib/python3.10/dist-packages (from requests->keras-tuner) (3.6)\n",
            "Requirement already satisfied: urllib3<3,>=1.21.1 in /usr/local/lib/python3.10/dist-packages (from requests->keras-tuner) (2.0.7)\n",
            "Requirement already satisfied: certifi>=2017.4.17 in /usr/local/lib/python3.10/dist-packages (from requests->keras-tuner) (2023.11.17)\n",
            "Installing collected packages: kt-legacy, keras-tuner\n",
            "Successfully installed keras-tuner-1.4.6 kt-legacy-1.0.5\n"
          ]
        }
      ],
      "source": [
        "!pip install keras-tuner\n"
      ]
    },
    {
      "cell_type": "code",
      "execution_count": 4,
      "metadata": {
        "id": "dpaRzsz3ragP"
      },
      "outputs": [],
      "source": [
        "import pandas as pd\n",
        "from keras.preprocessing.text import Tokenizer\n",
        "from keras.preprocessing.sequence import pad_sequences\n",
        "from keras.utils import to_categorical\n",
        "from keras.models import Sequential\n",
        "from keras.layers import Embedding, Dense, LSTM, SimpleRNN\n",
        "from keras.callbacks import EarlyStopping\n",
        "\n",
        "# Prepare the tokenizer\n",
        "tokenizer = Tokenizer()\n",
        "tokenizer.fit_on_texts(train_df['text'])\n",
        "\n",
        "# Ensure all text data is string and handle missing values\n",
        "train_df['text'] = train_df['text'].astype(str)\n",
        "val_df['text'] = val_df['text'].astype(str)\n",
        "test_df['text'] = test_df['text'].astype(str)\n",
        "\n",
        "# Convert texts to sequences\n",
        "train_seq = tokenizer.texts_to_sequences(train_df['text'])\n",
        "val_seq = tokenizer.texts_to_sequences(val_df['text'])\n",
        "test_seq = tokenizer.texts_to_sequences(test_df['text'])\n",
        "\n",
        "# Pad sequences\n",
        "max_length = max(max(len(x) for x in train_seq), max(len(x) for x in val_seq), max(len(x) for x in test_seq))\n",
        "train_seq_padded = pad_sequences(train_seq, maxlen=max_length)\n",
        "val_seq_padded = pad_sequences(val_seq, maxlen=max_length)\n",
        "test_seq_padded = pad_sequences(test_seq, maxlen=max_length)\n",
        "\n",
        "# Convert labels to one-hot encoding\n",
        "train_labels = to_categorical(train_df['label'])\n",
        "val_labels = to_categorical(val_df['label'])\n",
        "test_labels = to_categorical(test_df['label'])\n"
      ]
    },
    {
      "cell_type": "code",
      "source": [
        "import numpy as np\n",
        "\n",
        "# Find the indices for each category\n",
        "negative_indices = np.where(np.argmax(test_labels, axis=1) == 0)[0]\n",
        "neutral_indices = np.where(np.argmax(test_labels, axis=1) == 1)[0]\n",
        "positive_indices = np.where(np.argmax(test_labels, axis=1) == 2)[0]\n",
        "\n",
        "# Extract sequences for each category using the indices\n",
        "negative_test_seq_padded = test_seq_padded[negative_indices]\n",
        "neutral_test_seq_padded = test_seq_padded[neutral_indices]\n",
        "positive_test_seq_padded = test_seq_padded[positive_indices]\n",
        "\n",
        "# Extract the corresponding labels\n",
        "negative_test_labels = test_labels[negative_indices]\n",
        "neutral_test_labels = test_labels[neutral_indices]\n",
        "positive_test_labels = test_labels[positive_indices]"
      ],
      "metadata": {
        "id": "mGp5qZ2Geket"
      },
      "execution_count": 5,
      "outputs": []
    },
    {
      "cell_type": "code",
      "source": [
        "# Check Shapes\n",
        "print(f\"Total test samples: {test_seq_padded.shape[0]}\")\n",
        "print(f\"Negative samples: {negative_test_seq_padded.shape[0]}\")\n",
        "print(f\"Neutral samples: {neutral_test_seq_padded.shape[0]}\")\n",
        "print(f\"Positive samples: {positive_test_seq_padded.shape[0]}\")\n",
        "\n",
        "# Check that the sum of subset sizes equals the total\n",
        "assert test_seq_padded.shape[0] == (negative_test_seq_padded.shape[0] +\n",
        "                                    neutral_test_seq_padded.shape[0] +\n",
        "                                    positive_test_seq_padded.shape[0]), \"Counts do not match.\"\n",
        "\n",
        "# Check Label Distribution\n",
        "# This should only output the corresponding label for each subset\n",
        "print(f\"Unique labels in negative subset: {np.unique(np.argmax(negative_test_labels, axis=1))}\")\n",
        "print(f\"Unique labels in neutral subset: {np.unique(np.argmax(neutral_test_labels, axis=1))}\")\n",
        "print(f\"Unique labels in positive subset: {np.unique(np.argmax(positive_test_labels, axis=1))}\")\n",
        "\n",
        "# Inspect Individual Samples (randomly)\n",
        "for i in np.random.choice(negative_indices, 5, replace=False):\n",
        "    print(f\"Sample text: {test_df.iloc[i]['text']} - Label: {test_df.iloc[i]['label']} (Expected: 0)\")\n"
      ],
      "metadata": {
        "colab": {
          "base_uri": "https://localhost:8080/"
        },
        "id": "Jval4QK8eob4",
        "outputId": "2ad951d5-28ef-469d-a8a5-43adce5ff54f"
      },
      "execution_count": 6,
      "outputs": [
        {
          "output_type": "stream",
          "name": "stdout",
          "text": [
            "Total test samples: 5206\n",
            "Negative samples: 1546\n",
            "Neutral samples: 1930\n",
            "Positive samples: 1730\n",
            "Unique labels in negative subset: [0]\n",
            "Unique labels in neutral subset: [1]\n",
            "Unique labels in positive subset: [2]\n",
            "Sample text: _2890 Nt able to follow anyone  friendorfollow.com here i come!!! #itsucks - Label: 0 (Expected: 0)\n",
            "Sample text: Just installed. Keyed in all tasks n to-do list. Server error. Lost everything. Redo. Server error. Lost. Kept repeating. Frustrating = Uninstalled. - Label: 0 (Expected: 0)\n",
            "Sample text: Oh no... that bird is back - Label: 0 (Expected: 0)\n",
            "Sample text:  copy & paste **** **** tosser piss flap a 10000000000 times !!!! - Label: 0 (Expected: 0)\n",
            "Sample text: I couldn't understand it probably my fault but I find it complicate and I like to organize my day like without go and add on my calender just on this app but like I said it's probably my fault / gonna try this app again later maybe like after couple of different updates - Label: 0 (Expected: 0)\n"
          ]
        }
      ]
    },
    {
      "cell_type": "code",
      "execution_count": 7,
      "metadata": {
        "id": "x2IbGLW5wDBK"
      },
      "outputs": [],
      "source": [
        "import time\n",
        "from keras.callbacks import Callback\n",
        "global_epoch_times = []\n",
        "\n",
        "class TimeHistory(Callback):\n",
        "    def __init__(self):\n",
        "        super(TimeHistory, self).__init__()\n",
        "        self.times = []\n",
        "\n",
        "    def on_train_batch_begin(self, batch, logs=None):\n",
        "        self.batch_time_start = time.time()\n",
        "\n",
        "    def on_train_batch_end(self, batch, logs=None):\n",
        "        self.times.append(time.time() - self.batch_time_start)\n",
        "\n",
        "    def on_epoch_end(self, epoch, logs=None):\n",
        "        average_time_per_batch = sum(self.times) / len(self.times)\n",
        "        global_epoch_times.append(average_time_per_batch)  # Append to the global list\n",
        "        self.times = []  # Reset for the next epoch\n"
      ]
    },
    {
      "cell_type": "code",
      "execution_count": 8,
      "metadata": {
        "colab": {
          "base_uri": "https://localhost:8080/"
        },
        "id": "Q6i7_SlTv9gj",
        "outputId": "3e71a45c-0332-4210-8861-a78f6dab1106"
      },
      "outputs": [
        {
          "output_type": "stream",
          "name": "stdout",
          "text": [
            "Trial 9 Complete [00h 10m 23s]\n",
            "val_accuracy: 0.599807858467102\n",
            "\n",
            "Best val_accuracy So Far: 0.6461095213890076\n",
            "Total elapsed time: 01h 37m 24s\n",
            "\n",
            "The hyperparameter search is complete. The optimal number of units in the first densely-connected\n",
            "layer is 128 and the optimal output dimension of the Embedding layer is 96.\n",
            "\n",
            "Epoch 1/10\n",
            "61/61 [==============================] - 30s 475ms/step - loss: 1.0786 - accuracy: 0.4102 - val_loss: 1.0453 - val_accuracy: 0.4815\n",
            "Epoch 2/10\n",
            "61/61 [==============================] - 27s 447ms/step - loss: 0.8712 - accuracy: 0.6602 - val_loss: 0.9026 - val_accuracy: 0.5779\n",
            "Epoch 3/10\n",
            "61/61 [==============================] - 25s 414ms/step - loss: 0.5877 - accuracy: 0.7963 - val_loss: 1.5455 - val_accuracy: 0.4866\n",
            "Epoch 4/10\n",
            "61/61 [==============================] - 22s 365ms/step - loss: 0.8519 - accuracy: 0.6382 - val_loss: 0.9910 - val_accuracy: 0.4782\n",
            "Epoch 5/10\n",
            "61/61 [==============================] - 24s 390ms/step - loss: 0.7623 - accuracy: 0.6969 - val_loss: 1.0205 - val_accuracy: 0.4982\n",
            "Epoch 5: early stopping\n",
            "163/163 [==============================] - 5s 30ms/step - loss: 1.0295 - accuracy: 0.4908\n",
            "Test Accuracy: 0.4908\n"
          ]
        }
      ],
      "source": [
        "import keras_tuner as kt\n",
        "# Model builder function\n",
        "def build_model(hp):\n",
        "    model = Sequential()\n",
        "    model.add(Embedding(input_dim=len(tokenizer.word_index) + 1, output_dim=hp.Int('embedding_output_dim', min_value=64, max_value=128, step=32), input_length=max_length))\n",
        "    model.add(SimpleRNN(units=hp.Int('rnn_units', min_value=128, max_value=256, step=64)))\n",
        "    model.add(Dense(3, activation='softmax'))\n",
        "    model.compile(optimizer='adam', loss='categorical_crossentropy', metrics=['accuracy'])\n",
        "    return model\n",
        "\n",
        "# Instantiate the tuner\n",
        "tuner = kt.Hyperband(\n",
        "    build_model,\n",
        "    objective='val_accuracy',\n",
        "    max_epochs=10,  # Number of trials to run\n",
        "    factor=3,  # Number of models to train per trial\n",
        "    directory='my_dir',  # Directory to store the tuning logs\n",
        "    project_name='keras_simple_rnn_tuning'\n",
        ")\n",
        "\n",
        "# Instantiate the callbacks\n",
        "time_history = TimeHistory()\n",
        "early_stopping = EarlyStopping(monitor='val_loss', patience=3, verbose=1)\n",
        "\n",
        "tuner.search(train_seq_padded, train_labels,\n",
        "             epochs=10,\n",
        "             validation_data=(val_seq_padded, val_labels),\n",
        "             callbacks=[early_stopping, time_history])\n",
        "\n",
        "\n",
        "# Get the optimal hyperparameters\n",
        "best_hps = tuner.get_best_hyperparameters(num_trials=1)[0]\n",
        "\n",
        "print(f\"\"\"\n",
        "The hyperparameter search is complete. The optimal number of units in the first densely-connected\n",
        "layer is {best_hps.get('rnn_units')} and the optimal output dimension of the Embedding layer is {best_hps.get('embedding_output_dim')}.\n",
        "\"\"\")\n",
        "\n",
        "# Build the model with the optimal hyperparameters and train it\n",
        "model = tuner.hypermodel.build(best_hps)\n",
        "model.fit(train_seq_padded, train_labels, epochs=10, validation_data=(val_seq_padded, val_labels),callbacks=[early_stopping, time_history],batch_size=512)\n",
        "\n",
        "# Evaluate the model\n",
        "loss, accuracy = model.evaluate(test_seq_padded, test_labels)\n",
        "print(f'Test Accuracy: {accuracy:.4f}')"
      ]
    },
    {
      "cell_type": "code",
      "execution_count": 9,
      "metadata": {
        "colab": {
          "base_uri": "https://localhost:8080/",
          "height": 489
        },
        "id": "8M3kSEa33AyZ",
        "outputId": "a495e3af-f8c8-454e-dea5-097c2be8bf49"
      },
      "outputs": [
        {
          "output_type": "stream",
          "name": "stdout",
          "text": [
            "Drive already mounted at /content/drive; to attempt to forcibly remount, call drive.mount(\"/content/drive\", force_remount=True).\n"
          ]
        },
        {
          "output_type": "display_data",
          "data": {
            "text/plain": [
              "<Figure size 640x480 with 1 Axes>"
            ],
            "image/png": "[encoded data removed]"
          },
          "metadata": {}
        }
      ],
      "source": [
        "import matplotlib.pyplot as plt\n",
        "\n",
        "plt.plot(global_epoch_times)\n",
        "plt.xlabel('Epochs across all trials')\n",
        "plt.ylabel('Average Time per Batch (s)')\n",
        "plt.title('Batch Times Across All Trials and Epochs')\n",
        "# Save the plot to the Colab VM\n",
        "plt.savefig('rnn_batch_times.png')\n",
        "\n",
        "# If using Google Colab and want to save it to Google Drive\n",
        "from google.colab import drive\n",
        "drive.mount('/content/drive')\n",
        "plot_path = '/content/drive/My Drive/best_model_final_project/rnn_batch_times.png'\n",
        "plt.savefig(plot_path)\n",
        "plt.show()\n"
      ]
    },
    {
      "cell_type": "code",
      "execution_count": 10,
      "metadata": {
        "id": "_6oLlKUecchE"
      },
      "outputs": [],
      "source": [
        "import pickle\n",
        "\n",
        "# Serialize and save the variable to a file\n",
        "with open('/content/drive/My Drive/best_model_final_project/rnn_global_epoch_times.pkl', 'wb') as f:\n",
        "    pickle.dump(global_epoch_times, f)\n"
      ]
    },
    {
      "cell_type": "code",
      "execution_count": 11,
      "metadata": {
        "colab": {
          "base_uri": "https://localhost:8080/"
        },
        "id": "83QjVrRHSJzb",
        "outputId": "f2de16a0-2184-4201-84f1-b31b2a020a9b"
      },
      "outputs": [
        {
          "output_type": "stream",
          "name": "stdout",
          "text": [
            "163/163 [==============================] - 7s 41ms/step - loss: 1.0295 - accuracy: 0.4908\n",
            "Test Loss: 1.0295\n",
            "Test Accuracy: 0.4908\n"
          ]
        }
      ],
      "source": [
        "loss, accuracy = model.evaluate(test_seq_padded, test_labels)\n",
        "print(f'Test Loss: {loss:.4f}')\n",
        "print(f'Test Accuracy: {accuracy:.4f}')\n"
      ]
    },
    {
      "cell_type": "code",
      "execution_count": 12,
      "metadata": {
        "colab": {
          "base_uri": "https://localhost:8080/"
        },
        "id": "rOkBimoRSMDe",
        "outputId": "4841925c-04fc-4ad7-9963-844c76352a5d"
      },
      "outputs": [
        {
          "output_type": "stream",
          "name": "stdout",
          "text": [
            "163/163 [==============================] - 5s 31ms/step\n",
            "              precision    recall  f1-score   support\n",
            "\n",
            "           0       0.79      0.13      0.23      1546\n",
            "           1       0.42      0.92      0.58      1930\n",
            "           2       0.78      0.34      0.47      1730\n",
            "\n",
            "    accuracy                           0.49      5206\n",
            "   macro avg       0.67      0.46      0.42      5206\n",
            "weighted avg       0.65      0.49      0.44      5206\n",
            "\n",
            "[[ 204 1297   45]\n",
            " [  43 1771  116]\n",
            " [  10 1140  580]]\n"
          ]
        }
      ],
      "source": [
        "from sklearn.metrics import classification_report, confusion_matrix\n",
        "import numpy as np\n",
        "# Predict the test set\n",
        "predictions = model.predict(test_seq_padded)\n",
        "predicted_classes = np.argmax(predictions, axis=1)\n",
        "true_classes = np.argmax(test_labels, axis=1)\n",
        "\n",
        "# Calculate additional metrics\n",
        "print(classification_report(true_classes, predicted_classes))\n",
        "print(confusion_matrix(true_classes, predicted_classes))\n"
      ]
    },
    {
      "cell_type": "code",
      "source": [
        "# Evaluate the model on the negative subset\n",
        "negative_loss, negative_accuracy = model.evaluate(negative_test_seq_padded, negative_test_labels)\n",
        "print(f'Negative Test Accuracy: {negative_accuracy:.4f}')\n",
        "\n",
        "# Evaluate the model on the neutral subset\n",
        "neutral_loss, neutral_accuracy = model.evaluate(neutral_test_seq_padded, neutral_test_labels)\n",
        "print(f'Neutral Test Accuracy: {neutral_accuracy:.4f}')\n",
        "\n",
        "# Evaluate the model on the positive subset\n",
        "positive_loss, positive_accuracy = model.evaluate(positive_test_seq_padded, positive_test_labels)\n",
        "print(f'Positive Test Accuracy: {positive_accuracy:.4f}')\n"
      ],
      "metadata": {
        "colab": {
          "base_uri": "https://localhost:8080/"
        },
        "id": "Hl60QMppe3W3",
        "outputId": "7f6ee65c-4a1d-4652-f951-713e71b9d62b"
      },
      "execution_count": 13,
      "outputs": [
        {
          "output_type": "stream",
          "name": "stdout",
          "text": [
            "49/49 [==============================] - 2s 44ms/step - loss: 1.4285 - accuracy: 0.1320\n",
            "Negative Test Accuracy: 0.1320\n",
            "61/61 [==============================] - 3s 46ms/step - loss: 0.4897 - accuracy: 0.9176\n",
            "Neutral Test Accuracy: 0.9176\n",
            "55/55 [==============================] - 2s 32ms/step - loss: 1.2751 - accuracy: 0.3353\n",
            "Positive Test Accuracy: 0.3353\n"
          ]
        }
      ]
    },
    {
      "cell_type": "code",
      "source": [
        "from sklearn.metrics import classification_report\n",
        "\n",
        "# Predict on each subset\n",
        "negative_predictions = model.predict(negative_test_seq_padded)\n",
        "neutral_predictions = model.predict(neutral_test_seq_padded)\n",
        "positive_predictions = model.predict(positive_test_seq_padded)\n",
        "\n",
        "# Convert predictions to discrete labels\n",
        "negative_predicted_labels = np.argmax(negative_predictions, axis=1)\n",
        "neutral_predicted_labels = np.argmax(neutral_predictions, axis=1)\n",
        "positive_predicted_labels = np.argmax(positive_predictions, axis=1)\n",
        "\n",
        "# Calculate classification report for each\n",
        "print('Classification Report for Negative Subset:')\n",
        "print(classification_report(np.argmax(negative_test_labels, axis=1), negative_predicted_labels))\n",
        "\n",
        "print('Classification Report for Neutral Subset:')\n",
        "print(classification_report(np.argmax(neutral_test_labels, axis=1), neutral_predicted_labels))\n",
        "\n",
        "print('Classification Report for Positive Subset:')\n",
        "print(classification_report(np.argmax(positive_test_labels, axis=1), positive_predicted_labels))\n"
      ],
      "metadata": {
        "colab": {
          "base_uri": "https://localhost:8080/"
        },
        "id": "OpSbFaOIe8cQ",
        "outputId": "99781580-325b-45c3-824f-5c6753be3777"
      },
      "execution_count": 14,
      "outputs": [
        {
          "output_type": "stream",
          "name": "stdout",
          "text": [
            "49/49 [==============================] - 1s 30ms/step\n",
            "61/61 [==============================] - 2s 30ms/step\n",
            "55/55 [==============================] - 2s 30ms/step\n",
            "Classification Report for Negative Subset:\n",
            "              precision    recall  f1-score   support\n",
            "\n",
            "           0       1.00      0.13      0.23      1546\n",
            "           1       0.00      0.00      0.00         0\n",
            "           2       0.00      0.00      0.00         0\n",
            "\n",
            "    accuracy                           0.13      1546\n",
            "   macro avg       0.33      0.04      0.08      1546\n",
            "weighted avg       1.00      0.13      0.23      1546\n",
            "\n",
            "Classification Report for Neutral Subset:\n",
            "              precision    recall  f1-score   support\n",
            "\n",
            "           0       0.00      0.00      0.00         0\n",
            "           1       1.00      0.92      0.96      1930\n",
            "           2       0.00      0.00      0.00         0\n",
            "\n",
            "    accuracy                           0.92      1930\n",
            "   macro avg       0.33      0.31      0.32      1930\n",
            "weighted avg       1.00      0.92      0.96      1930\n",
            "\n",
            "Classification Report for Positive Subset:\n",
            "              precision    recall  f1-score   support\n",
            "\n",
            "           0       0.00      0.00      0.00         0\n",
            "           1       0.00      0.00      0.00         0\n",
            "           2       1.00      0.34      0.50      1730\n",
            "\n",
            "    accuracy                           0.34      1730\n",
            "   macro avg       0.33      0.11      0.17      1730\n",
            "weighted avg       1.00      0.34      0.50      1730\n",
            "\n"
          ]
        },
        {
          "output_type": "stream",
          "name": "stderr",
          "text": [
            "/usr/local/lib/python3.10/dist-packages/sklearn/metrics/_classification.py:1344: UndefinedMetricWarning: Recall and F-score are ill-defined and being set to 0.0 in labels with no true samples. Use `zero_division` parameter to control this behavior.\n",
            "  _warn_prf(average, modifier, msg_start, len(result))\n",
            "/usr/local/lib/python3.10/dist-packages/sklearn/metrics/_classification.py:1344: UndefinedMetricWarning: Recall and F-score are ill-defined and being set to 0.0 in labels with no true samples. Use `zero_division` parameter to control this behavior.\n",
            "  _warn_prf(average, modifier, msg_start, len(result))\n",
            "/usr/local/lib/python3.10/dist-packages/sklearn/metrics/_classification.py:1344: UndefinedMetricWarning: Recall and F-score are ill-defined and being set to 0.0 in labels with no true samples. Use `zero_division` parameter to control this behavior.\n",
            "  _warn_prf(average, modifier, msg_start, len(result))\n",
            "/usr/local/lib/python3.10/dist-packages/sklearn/metrics/_classification.py:1344: UndefinedMetricWarning: Recall and F-score are ill-defined and being set to 0.0 in labels with no true samples. Use `zero_division` parameter to control this behavior.\n",
            "  _warn_prf(average, modifier, msg_start, len(result))\n",
            "/usr/local/lib/python3.10/dist-packages/sklearn/metrics/_classification.py:1344: UndefinedMetricWarning: Recall and F-score are ill-defined and being set to 0.0 in labels with no true samples. Use `zero_division` parameter to control this behavior.\n",
            "  _warn_prf(average, modifier, msg_start, len(result))\n",
            "/usr/local/lib/python3.10/dist-packages/sklearn/metrics/_classification.py:1344: UndefinedMetricWarning: Recall and F-score are ill-defined and being set to 0.0 in labels with no true samples. Use `zero_division` parameter to control this behavior.\n",
            "  _warn_prf(average, modifier, msg_start, len(result))\n",
            "/usr/local/lib/python3.10/dist-packages/sklearn/metrics/_classification.py:1344: UndefinedMetricWarning: Recall and F-score are ill-defined and being set to 0.0 in labels with no true samples. Use `zero_division` parameter to control this behavior.\n",
            "  _warn_prf(average, modifier, msg_start, len(result))\n",
            "/usr/local/lib/python3.10/dist-packages/sklearn/metrics/_classification.py:1344: UndefinedMetricWarning: Recall and F-score are ill-defined and being set to 0.0 in labels with no true samples. Use `zero_division` parameter to control this behavior.\n",
            "  _warn_prf(average, modifier, msg_start, len(result))\n",
            "/usr/local/lib/python3.10/dist-packages/sklearn/metrics/_classification.py:1344: UndefinedMetricWarning: Recall and F-score are ill-defined and being set to 0.0 in labels with no true samples. Use `zero_division` parameter to control this behavior.\n",
            "  _warn_prf(average, modifier, msg_start, len(result))\n"
          ]
        }
      ]
    },
    {
      "cell_type": "code",
      "execution_count": 15,
      "metadata": {
        "colab": {
          "base_uri": "https://localhost:8080/"
        },
        "id": "BFrKhYLJXZIj",
        "outputId": "60bda314-091a-449e-ba4c-77d0e3327832"
      },
      "outputs": [
        {
          "output_type": "stream",
          "name": "stderr",
          "text": [
            "/usr/local/lib/python3.10/dist-packages/keras/src/engine/training.py:3103: UserWarning: You are saving your model as an HDF5 file via `model.save()`. This file format is considered legacy. We recommend using instead the native Keras format, e.g. `model.save('my_model.keras')`.\n",
            "  saving_api.save_model(\n"
          ]
        },
        {
          "output_type": "stream",
          "name": "stdout",
          "text": [
            "Drive already mounted at /content/drive; to attempt to forcibly remount, call drive.mount(\"/content/drive\", force_remount=True).\n"
          ]
        }
      ],
      "source": [
        "# Save the entire model to a file\n",
        "model.save('my_rnn_model.h5')  # Saves to the Colab VM\n",
        "\n",
        "# If using Google Colab, save it to Google Drive by mounting the drive first\n",
        "from google.colab import drive\n",
        "drive.mount('/content/drive')\n",
        "model_path = '/content/drive/My Drive/best_model_final_project/my_rnn_model.h5'\n",
        "model.save(model_path)\n"
      ]
    }
  ],
  "metadata": {
    "accelerator": "GPU",
    "colab": {
      "provenance": [],
      "gpuType": "V100",
      "authorship_tag": "ABX9TyPL13Lfm+RU3AC3p6XMfjjw",
      "include_colab_link": true
    },
    "kernelspec": {
      "display_name": "Python 3",
      "name": "python3"
    },
    "language_info": {
      "name": "python"
    }
  },
  "nbformat": 4,
  "nbformat_minor": 0
}