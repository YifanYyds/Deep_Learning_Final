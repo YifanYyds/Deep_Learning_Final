{
  "nbformat": 4,
  "nbformat_minor": 0,
  "metadata": {
    "colab": {
      "provenance": [],
      "gpuType": "V100",
      "authorship_tag": "ABX9TyN3zAdr80h27+nl/O3ae+Vn",
      "include_colab_link": true
    },
    "kernelspec": {
      "name": "python3",
      "display_name": "Python 3"
    },
    "language_info": {
      "name": "python"
    },
    "accelerator": "GPU"
  },
  "cells": [
    {
      "cell_type": "markdown",
      "metadata": {
        "id": "view-in-github",
        "colab_type": "text"
      },
      "source": [
        "<a href=\"https://colab.research.google.com/github/YifanYyds/Deep_Learning_Final/blob/main/LSTM_final.ipynb\" target=\"_parent\"><img src=\"https://colab.research.google.com/assets/colab-badge.svg\" alt=\"Open In Colab\"/></a>"
      ]
    },
    {
      "cell_type": "code",
      "execution_count": 1,
      "metadata": {
        "colab": {
          "base_uri": "https://localhost:8080/"
        },
        "id": "STB00sbUvXGT",
        "outputId": "47ad0bec-33df-4eb7-c4d8-d523680ddf4c"
      },
      "outputs": [
        {
          "output_type": "stream",
          "name": "stdout",
          "text": [
            "Mounted at /content/drive\n"
          ]
        }
      ],
      "source": [
        "import pandas as pd\n",
        "from google.colab import drive\n",
        "drive.mount('/content/drive')\n",
        "train_df = pd.read_csv(\"/content/drive/MyDrive/DL_dataset/train_df.csv\", header=0, delimiter=\",\")\n",
        "val_df = pd.read_csv(\"/content/drive/MyDrive/DL_dataset/val_df.csv\", header=0, delimiter=\",\")\n",
        "test_df = pd.read_csv(\"/content/drive/MyDrive/DL_dataset/test_df.csv\", header=0, delimiter=\",\")\n"
      ]
    },
    {
      "cell_type": "code",
      "source": [
        "!pip install keras-tuner\n"
      ],
      "metadata": {
        "colab": {
          "base_uri": "https://localhost:8080/"
        },
        "id": "y9Vi1FCRwlbT",
        "outputId": "f5354bad-1597-416f-a411-da20cd0b5e70"
      },
      "execution_count": 2,
      "outputs": [
        {
          "output_type": "stream",
          "name": "stdout",
          "text": [
            "Collecting keras-tuner\n",
            "  Downloading keras_tuner-1.4.6-py3-none-any.whl (128 kB)\n",
            "\u001b[2K     \u001b[90m━━━━━━━━━━━━━━━━━━━━━━━━━━━━━━━━━━━━━━━━\u001b[0m \u001b[32m128.9/128.9 kB\u001b[0m \u001b[31m1.7 MB/s\u001b[0m eta \u001b[36m0:00:00\u001b[0m\n",
            "\u001b[?25hRequirement already satisfied: keras in /usr/local/lib/python3.10/dist-packages (from keras-tuner) (2.15.0)\n",
            "Requirement already satisfied: packaging in /usr/local/lib/python3.10/dist-packages (from keras-tuner) (23.2)\n",
            "Requirement already satisfied: requests in /usr/local/lib/python3.10/dist-packages (from keras-tuner) (2.31.0)\n",
            "Collecting kt-legacy (from keras-tuner)\n",
            "  Downloading kt_legacy-1.0.5-py3-none-any.whl (9.6 kB)\n",
            "Requirement already satisfied: charset-normalizer<4,>=2 in /usr/local/lib/python3.10/dist-packages (from requests->keras-tuner) (3.3.2)\n",
            "Requirement already satisfied: idna<4,>=2.5 in /usr/local/lib/python3.10/dist-packages (from requests->keras-tuner) (3.6)\n",
            "Requirement already satisfied: urllib3<3,>=1.21.1 in /usr/local/lib/python3.10/dist-packages (from requests->keras-tuner) (2.0.7)\n",
            "Requirement already satisfied: certifi>=2017.4.17 in /usr/local/lib/python3.10/dist-packages (from requests->keras-tuner) (2023.11.17)\n",
            "Installing collected packages: kt-legacy, keras-tuner\n",
            "Successfully installed keras-tuner-1.4.6 kt-legacy-1.0.5\n"
          ]
        }
      ]
    },
    {
      "cell_type": "code",
      "source": [
        "import pandas as pd\n",
        "from keras.preprocessing.text import Tokenizer\n",
        "from keras.preprocessing.sequence import pad_sequences\n",
        "from keras.utils import to_categorical\n",
        "from keras.models import Sequential\n",
        "from keras.layers import Embedding, Dense, LSTM, SimpleRNN\n",
        "from keras.callbacks import EarlyStopping\n",
        "\n",
        "# Prepare the tokenizer\n",
        "tokenizer = Tokenizer()\n",
        "tokenizer.fit_on_texts(train_df['text'])\n",
        "\n",
        "# Ensure all text data is string and handle missing values\n",
        "train_df['text'] = train_df['text'].astype(str)\n",
        "val_df['text'] = val_df['text'].astype(str)\n",
        "test_df['text'] = test_df['text'].astype(str)\n",
        "\n",
        "# Convert texts to sequences\n",
        "train_seq = tokenizer.texts_to_sequences(train_df['text'])\n",
        "val_seq = tokenizer.texts_to_sequences(val_df['text'])\n",
        "test_seq = tokenizer.texts_to_sequences(test_df['text'])\n",
        "\n",
        "# Pad sequences\n",
        "max_length = max(max(len(x) for x in train_seq), max(len(x) for x in val_seq), max(len(x) for x in test_seq))\n",
        "train_seq_padded = pad_sequences(train_seq, maxlen=max_length)\n",
        "val_seq_padded = pad_sequences(val_seq, maxlen=max_length)\n",
        "test_seq_padded = pad_sequences(test_seq, maxlen=max_length)\n",
        "\n",
        "# Convert labels to one-hot encoding\n",
        "train_labels = to_categorical(train_df['label'])\n",
        "val_labels = to_categorical(val_df['label'])\n",
        "test_labels = to_categorical(test_df['label'])\n"
      ],
      "metadata": {
        "id": "dpaRzsz3ragP"
      },
      "execution_count": 3,
      "outputs": []
    },
    {
      "cell_type": "code",
      "source": [
        "import time\n",
        "from keras.callbacks import Callback\n",
        "global_epoch_times = []\n",
        "\n",
        "class TimeHistory(Callback):\n",
        "    def __init__(self):\n",
        "        super(TimeHistory, self).__init__()\n",
        "        self.times = []\n",
        "\n",
        "    def on_train_batch_begin(self, batch, logs=None):\n",
        "        self.batch_time_start = time.time()\n",
        "\n",
        "    def on_train_batch_end(self, batch, logs=None):\n",
        "        self.times.append(time.time() - self.batch_time_start)\n",
        "\n",
        "    def on_epoch_end(self, epoch, logs=None):\n",
        "        average_time_per_batch = sum(self.times) / len(self.times)\n",
        "        global_epoch_times.append(average_time_per_batch)  # Append to the global list\n",
        "        self.times = []  # Reset for the next epoch\n"
      ],
      "metadata": {
        "id": "x2IbGLW5wDBK"
      },
      "execution_count": 4,
      "outputs": []
    },
    {
      "cell_type": "code",
      "source": [
        "import keras_tuner as kt\n",
        "# Model builder function\n",
        "def build_model(hp):\n",
        "    model = Sequential()\n",
        "    model.add(Embedding(input_dim=len(tokenizer.word_index) + 1, output_dim=hp.Int('embedding_output_dim', min_value=64, max_value=128, step=32), input_length=max_length))\n",
        "    model.add(LSTM(units=hp.Int('rnn_units', min_value=128, max_value=256, step=64)))\n",
        "    model.add(Dense(3, activation='softmax'))\n",
        "    model.compile(optimizer='adam', loss='categorical_crossentropy', metrics=['accuracy'])\n",
        "    return model\n",
        "\n",
        "# Instantiate the tuner\n",
        "tuner = kt.Hyperband(\n",
        "    build_model,\n",
        "    objective='val_accuracy',\n",
        "    max_epochs=10,  # Number of trials to run\n",
        "    factor=3,  # Number of models to train per trial\n",
        "    directory='my_dir',  # Directory to store the tuning logs\n",
        "    project_name='keras_lstm_tuning'\n",
        ")\n",
        "\n",
        "# Instantiate the callbacks\n",
        "time_history = TimeHistory()\n",
        "early_stopping = EarlyStopping(monitor='val_loss', patience=3, verbose=1)\n",
        "\n",
        "tuner.search(train_seq_padded, train_labels,\n",
        "             epochs=10,\n",
        "             validation_data=(val_seq_padded, val_labels),\n",
        "             callbacks=[early_stopping, time_history])\n",
        "\n",
        "\n",
        "# Get the optimal hyperparameters\n",
        "best_hps = tuner.get_best_hyperparameters(num_trials=1)[0]\n",
        "\n",
        "print(f\"\"\"\n",
        "The hyperparameter search is complete. The optimal number of units in the first densely-connected\n",
        "layer is {best_hps.get('rnn_units')} and the optimal output dimension of the Embedding layer is {best_hps.get('embedding_output_dim')}.\n",
        "\"\"\")\n",
        "\n",
        "# Build the model with the optimal hyperparameters and train it\n",
        "model = tuner.hypermodel.build(best_hps)\n",
        "model.fit(train_seq_padded, train_labels, epochs=10, validation_data=(val_seq_padded, val_labels),callbacks=[early_stopping, time_history],batch_size=512)\n",
        "\n",
        "# Evaluate the model\n",
        "loss, accuracy = model.evaluate(test_seq_padded, test_labels)\n",
        "print(f'Test Accuracy: {accuracy:.4f}')\n"
      ],
      "metadata": {
        "colab": {
          "base_uri": "https://localhost:8080/"
        },
        "id": "Q6i7_SlTv9gj",
        "outputId": "b95106ed-3c3c-4f90-cb29-722ee50aa3b1"
      },
      "execution_count": 5,
      "outputs": [
        {
          "output_type": "stream",
          "name": "stdout",
          "text": [
            "Trial 9 Complete [00h 01m 01s]\n",
            "val_accuracy: 0.6870316863059998\n",
            "\n",
            "Best val_accuracy So Far: 0.6974063515663147\n",
            "Total elapsed time: 00h 10m 56s\n",
            "\n",
            "The hyperparameter search is complete. The optimal number of units in the first densely-connected\n",
            "layer is 192 and the optimal output dimension of the Embedding layer is 128.\n",
            "\n",
            "Epoch 1/10\n",
            "61/61 [==============================] - 10s 125ms/step - loss: 1.0004 - accuracy: 0.4877 - val_loss: 0.8361 - val_accuracy: 0.6159\n",
            "Epoch 2/10\n",
            "61/61 [==============================] - 8s 123ms/step - loss: 0.6994 - accuracy: 0.7060 - val_loss: 0.7493 - val_accuracy: 0.6797\n",
            "Epoch 3/10\n",
            "61/61 [==============================] - 6s 100ms/step - loss: 0.5834 - accuracy: 0.7683 - val_loss: 0.8031 - val_accuracy: 0.6686\n",
            "Epoch 4/10\n",
            "61/61 [==============================] - 6s 98ms/step - loss: 0.4482 - accuracy: 0.8317 - val_loss: 0.8639 - val_accuracy: 0.6536\n",
            "Epoch 5/10\n",
            "61/61 [==============================] - 6s 94ms/step - loss: 0.3641 - accuracy: 0.8684 - val_loss: 0.9888 - val_accuracy: 0.6428\n",
            "Epoch 5: early stopping\n",
            "163/163 [==============================] - 1s 8ms/step - loss: 0.9732 - accuracy: 0.6479\n",
            "Test Accuracy: 0.6479\n"
          ]
        }
      ]
    },
    {
      "cell_type": "code",
      "source": [
        "import matplotlib.pyplot as plt\n",
        "\n",
        "plt.plot(global_epoch_times)\n",
        "plt.xlabel('Epochs across all trials')\n",
        "plt.ylabel('Average Time per Batch (s)')\n",
        "plt.title('Batch Times Across All Trials and Epochs')\n",
        "plt.show()\n"
      ],
      "metadata": {
        "id": "8M3kSEa33AyZ",
        "colab": {
          "base_uri": "https://localhost:8080/",
          "height": 472
        },
        "outputId": "06d4fc0b-65ea-4d32-aee2-53dbaea0cfcb"
      },
      "execution_count": 6,
      "outputs": [
        {
          "output_type": "display_data",
          "data": {
            "text/plain": [
              "<Figure size 640x480 with 1 Axes>"
            ],
            "image/png": "[encoded data removed]"
          },
          "metadata": {}
        }
      ]
    },
    {
      "cell_type": "code",
      "source": [
        "# Assuming test_seq_padded and test_labels are your test sequences and labels\n",
        "loss, accuracy = model.evaluate(test_seq_padded, test_labels)\n",
        "print(f'Test Loss: {loss:.4f}')\n",
        "print(f'Test Accuracy: {accuracy:.4f}')\n"
      ],
      "metadata": {
        "colab": {
          "base_uri": "https://localhost:8080/"
        },
        "id": "-HaJKz8lH3Lc",
        "outputId": "4f6158c8-7e56-4135-eb7b-c22d3cc4aa03"
      },
      "execution_count": 7,
      "outputs": [
        {
          "output_type": "stream",
          "name": "stdout",
          "text": [
            "163/163 [==============================] - 2s 11ms/step - loss: 0.9732 - accuracy: 0.6479\n",
            "Test Loss: 0.9732\n",
            "Test Accuracy: 0.6479\n"
          ]
        }
      ]
    },
    {
      "cell_type": "code",
      "source": [
        "from sklearn.metrics import classification_report, confusion_matrix\n",
        "import numpy as np\n",
        "# Predict the test set\n",
        "predictions = model.predict(test_seq_padded)\n",
        "predicted_classes = np.argmax(predictions, axis=1)\n",
        "true_classes = np.argmax(test_labels, axis=1)\n",
        "\n",
        "# Calculate additional metrics\n",
        "print(classification_report(true_classes, predicted_classes))\n",
        "print(confusion_matrix(true_classes, predicted_classes))\n"
      ],
      "metadata": {
        "colab": {
          "base_uri": "https://localhost:8080/"
        },
        "id": "LhRvLZmGH8ky",
        "outputId": "c13189a5-e198-43ff-b600-03fc8eac198a"
      },
      "execution_count": 8,
      "outputs": [
        {
          "output_type": "stream",
          "name": "stdout",
          "text": [
            "163/163 [==============================] - 2s 7ms/step\n",
            "              precision    recall  f1-score   support\n",
            "\n",
            "           0       0.65      0.66      0.66      1546\n",
            "           1       0.58      0.61      0.60      1930\n",
            "           2       0.74      0.67      0.70      1730\n",
            "\n",
            "    accuracy                           0.65      5206\n",
            "   macro avg       0.65      0.65      0.65      5206\n",
            "weighted avg       0.65      0.65      0.65      5206\n",
            "\n",
            "[[1025  425   96]\n",
            " [ 427 1186  317]\n",
            " [ 131  437 1162]]\n"
          ]
        }
      ]
    }
  ]
}