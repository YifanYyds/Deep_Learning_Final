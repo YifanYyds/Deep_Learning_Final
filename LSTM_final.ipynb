{
  "nbformat": 4,
  "nbformat_minor": 0,
  "metadata": {
    "colab": {
      "provenance": [],
      "gpuType": "V100",
      "authorship_tag": "ABX9TyNnpu4bAHaZUtH6lJd/FYTi",
      "include_colab_link": true
    },
    "kernelspec": {
      "name": "python3",
      "display_name": "Python 3"
    },
    "language_info": {
      "name": "python"
    },
    "accelerator": "GPU"
  },
  "cells": [
    {
      "cell_type": "markdown",
      "metadata": {
        "id": "view-in-github",
        "colab_type": "text"
      },
      "source": [
        "<a href=\"https://colab.research.google.com/github/YifanYyds/Deep_Learning_Final/blob/main/LSTM_final.ipynb\" target=\"_parent\"><img src=\"https://colab.research.google.com/assets/colab-badge.svg\" alt=\"Open In Colab\"/></a>"
      ]
    },
    {
      "cell_type": "code",
      "execution_count": 2,
      "metadata": {
        "colab": {
          "base_uri": "https://localhost:8080/"
        },
        "id": "STB00sbUvXGT",
        "outputId": "a8418d43-4dec-48cc-e2fe-257e43bc0680"
      },
      "outputs": [
        {
          "output_type": "stream",
          "name": "stdout",
          "text": [
            "Mounted at /content/drive\n"
          ]
        }
      ],
      "source": [
        "import pandas as pd\n",
        "from google.colab import drive\n",
        "drive.mount('/content/drive')\n",
        "train_df = pd.read_csv(\"/content/drive/MyDrive/DL_dataset/train_df.csv\", header=0, delimiter=\",\")\n",
        "val_df = pd.read_csv(\"/content/drive/MyDrive/DL_dataset/val_df.csv\", header=0, delimiter=\",\")\n",
        "test_df = pd.read_csv(\"/content/drive/MyDrive/DL_dataset/test_df.csv\", header=0, delimiter=\",\")\n"
      ]
    },
    {
      "cell_type": "code",
      "source": [
        "import shutil\n",
        "import os\n",
        "\n",
        "# Check if the directory exists\n",
        "if os.path.exists('my_dir/keras_lstm_tuning'):\n",
        "    # If it exists, delete it\n",
        "    shutil.rmtree('my_dir/keras_lstm_tuning')\n"
      ],
      "metadata": {
        "id": "HuQ5hfH-ZF_N"
      },
      "execution_count": 3,
      "outputs": []
    },
    {
      "cell_type": "code",
      "source": [
        "!pip install keras-tuner\n"
      ],
      "metadata": {
        "colab": {
          "base_uri": "https://localhost:8080/"
        },
        "id": "y9Vi1FCRwlbT",
        "outputId": "dea66c96-955b-4370-ddff-81d77d2c1d86"
      },
      "execution_count": 4,
      "outputs": [
        {
          "output_type": "stream",
          "name": "stdout",
          "text": [
            "Collecting keras-tuner\n",
            "  Downloading keras_tuner-1.4.6-py3-none-any.whl (128 kB)\n",
            "\u001b[?25l     \u001b[90m━━━━━━━━━━━━━━━━━━━━━━━━━━━━━━━━━━━━━━━━\u001b[0m \u001b[32m0.0/128.9 kB\u001b[0m \u001b[31m?\u001b[0m eta \u001b[36m-:--:--\u001b[0m\r\u001b[2K     \u001b[91m━━━━━━━━━━━━━━━━━━━━━━━━━━━━━━━━━━━━━━\u001b[0m\u001b[90m╺\u001b[0m\u001b[90m━\u001b[0m \u001b[32m122.9/128.9 kB\u001b[0m \u001b[31m3.5 MB/s\u001b[0m eta \u001b[36m0:00:01\u001b[0m\r\u001b[2K     \u001b[90m━━━━━━━━━━━━━━━━━━━━━━━━━━━━━━━━━━━━━━━━\u001b[0m \u001b[32m128.9/128.9 kB\u001b[0m \u001b[31m3.1 MB/s\u001b[0m eta \u001b[36m0:00:00\u001b[0m\n",
            "\u001b[?25hRequirement already satisfied: keras in /usr/local/lib/python3.10/dist-packages (from keras-tuner) (2.15.0)\n",
            "Requirement already satisfied: packaging in /usr/local/lib/python3.10/dist-packages (from keras-tuner) (23.2)\n",
            "Requirement already satisfied: requests in /usr/local/lib/python3.10/dist-packages (from keras-tuner) (2.31.0)\n",
            "Collecting kt-legacy (from keras-tuner)\n",
            "  Downloading kt_legacy-1.0.5-py3-none-any.whl (9.6 kB)\n",
            "Requirement already satisfied: charset-normalizer<4,>=2 in /usr/local/lib/python3.10/dist-packages (from requests->keras-tuner) (3.3.2)\n",
            "Requirement already satisfied: idna<4,>=2.5 in /usr/local/lib/python3.10/dist-packages (from requests->keras-tuner) (3.6)\n",
            "Requirement already satisfied: urllib3<3,>=1.21.1 in /usr/local/lib/python3.10/dist-packages (from requests->keras-tuner) (2.0.7)\n",
            "Requirement already satisfied: certifi>=2017.4.17 in /usr/local/lib/python3.10/dist-packages (from requests->keras-tuner) (2023.11.17)\n",
            "Installing collected packages: kt-legacy, keras-tuner\n",
            "Successfully installed keras-tuner-1.4.6 kt-legacy-1.0.5\n"
          ]
        }
      ]
    },
    {
      "cell_type": "code",
      "source": [
        "import pandas as pd\n",
        "from keras.preprocessing.text import Tokenizer\n",
        "from keras.preprocessing.sequence import pad_sequences\n",
        "from keras.utils import to_categorical\n",
        "from keras.models import Sequential\n",
        "from keras.layers import Embedding, Dense, LSTM, SimpleRNN\n",
        "from keras.callbacks import EarlyStopping\n",
        "\n",
        "# Prepare the tokenizer\n",
        "tokenizer = Tokenizer()\n",
        "tokenizer.fit_on_texts(train_df['text'])\n",
        "\n",
        "# Ensure all text data is string and handle missing values\n",
        "train_df['text'] = train_df['text'].astype(str)\n",
        "val_df['text'] = val_df['text'].astype(str)\n",
        "test_df['text'] = test_df['text'].astype(str)\n",
        "\n",
        "# Convert texts to sequences\n",
        "train_seq = tokenizer.texts_to_sequences(train_df['text'])\n",
        "val_seq = tokenizer.texts_to_sequences(val_df['text'])\n",
        "test_seq = tokenizer.texts_to_sequences(test_df['text'])\n",
        "\n",
        "# Pad sequences\n",
        "max_length = max(max(len(x) for x in train_seq), max(len(x) for x in val_seq), max(len(x) for x in test_seq))\n",
        "train_seq_padded = pad_sequences(train_seq, maxlen=max_length)\n",
        "val_seq_padded = pad_sequences(val_seq, maxlen=max_length)\n",
        "test_seq_padded = pad_sequences(test_seq, maxlen=max_length)\n",
        "\n",
        "# Convert labels to one-hot encoding\n",
        "train_labels = to_categorical(train_df['label'])\n",
        "val_labels = to_categorical(val_df['label'])\n",
        "test_labels = to_categorical(test_df['label'])\n"
      ],
      "metadata": {
        "id": "dpaRzsz3ragP"
      },
      "execution_count": 5,
      "outputs": []
    },
    {
      "cell_type": "code",
      "source": [
        "import numpy as np\n",
        "\n",
        "# Find the indices for each category\n",
        "negative_indices = np.where(np.argmax(test_labels, axis=1) == 0)[0]\n",
        "neutral_indices = np.where(np.argmax(test_labels, axis=1) == 1)[0]\n",
        "positive_indices = np.where(np.argmax(test_labels, axis=1) == 2)[0]\n",
        "\n",
        "# Extract sequences for each category using the indices\n",
        "negative_test_seq_padded = test_seq_padded[negative_indices]\n",
        "neutral_test_seq_padded = test_seq_padded[neutral_indices]\n",
        "positive_test_seq_padded = test_seq_padded[positive_indices]\n",
        "\n",
        "# Extract the corresponding labels\n",
        "negative_test_labels = test_labels[negative_indices]\n",
        "neutral_test_labels = test_labels[neutral_indices]\n",
        "positive_test_labels = test_labels[positive_indices]"
      ],
      "metadata": {
        "id": "5hGqZubGZVSg"
      },
      "execution_count": 6,
      "outputs": []
    },
    {
      "cell_type": "code",
      "source": [
        "# Check Shapes\n",
        "print(f\"Total test samples: {test_seq_padded.shape[0]}\")\n",
        "print(f\"Negative samples: {negative_test_seq_padded.shape[0]}\")\n",
        "print(f\"Neutral samples: {neutral_test_seq_padded.shape[0]}\")\n",
        "print(f\"Positive samples: {positive_test_seq_padded.shape[0]}\")\n",
        "\n",
        "# Check that the sum of subset sizes equals the total\n",
        "assert test_seq_padded.shape[0] == (negative_test_seq_padded.shape[0] +\n",
        "                                    neutral_test_seq_padded.shape[0] +\n",
        "                                    positive_test_seq_padded.shape[0]), \"Counts do not match.\"\n",
        "\n",
        "# Check Label Distribution\n",
        "# This should only output the corresponding label for each subset\n",
        "print(f\"Unique labels in negative subset: {np.unique(np.argmax(negative_test_labels, axis=1))}\")\n",
        "print(f\"Unique labels in neutral subset: {np.unique(np.argmax(neutral_test_labels, axis=1))}\")\n",
        "print(f\"Unique labels in positive subset: {np.unique(np.argmax(positive_test_labels, axis=1))}\")\n",
        "\n",
        "# Inspect Individual Samples (randomly)\n",
        "for i in np.random.choice(negative_indices, 5, replace=False):\n",
        "    print(f\"Sample text: {test_df.iloc[i]['text']} - Label: {test_df.iloc[i]['label']} (Expected: 0)\")\n"
      ],
      "metadata": {
        "colab": {
          "base_uri": "https://localhost:8080/"
        },
        "id": "YmVOZ2ybZvBY",
        "outputId": "798b331f-2964-485b-9165-1caee87a9ea5"
      },
      "execution_count": 7,
      "outputs": [
        {
          "output_type": "stream",
          "name": "stdout",
          "text": [
            "Total test samples: 5206\n",
            "Negative samples: 1546\n",
            "Neutral samples: 1930\n",
            "Positive samples: 1730\n",
            "Unique labels in negative subset: [0]\n",
            "Unique labels in neutral subset: [1]\n",
            "Unique labels in positive subset: [2]\n",
            "Sample text: is hating the weather. UGH. - Label: 0 (Expected: 0)\n",
            "Sample text:   im trying to fix myself really but i need to stop cutting myself - Label: 0 (Expected: 0)\n",
            "Sample text: ...OOOPS AGAIN, the reply button is the RIGHT of the msg...now I`ll stop spamming - Label: 0 (Expected: 0)\n",
            "Sample text: omg i just slept like 18hrs in the last 22hrs...  i think i`m dying or something   reminds me of catcher - Label: 0 (Expected: 0)\n",
            "Sample text: New entries need to go to the top of a list, with ir without a star. Still NOT an improvement over Wunderlist. - Label: 0 (Expected: 0)\n"
          ]
        }
      ]
    },
    {
      "cell_type": "code",
      "source": [
        "import time\n",
        "from keras.callbacks import Callback\n",
        "global_epoch_times = []\n",
        "\n",
        "class TimeHistory(Callback):\n",
        "    def __init__(self):\n",
        "        super(TimeHistory, self).__init__()\n",
        "        self.times = []\n",
        "\n",
        "    def on_train_batch_begin(self, batch, logs=None):\n",
        "        self.batch_time_start = time.time()\n",
        "\n",
        "    def on_train_batch_end(self, batch, logs=None):\n",
        "        self.times.append(time.time() - self.batch_time_start)\n",
        "\n",
        "    def on_epoch_end(self, epoch, logs=None):\n",
        "        average_time_per_batch = sum(self.times) / len(self.times)\n",
        "        global_epoch_times.append(average_time_per_batch)  # Append to the global list\n",
        "        self.times = []  # Reset for the next epoch\n"
      ],
      "metadata": {
        "id": "x2IbGLW5wDBK"
      },
      "execution_count": 8,
      "outputs": []
    },
    {
      "cell_type": "code",
      "source": [
        "import keras_tuner as kt\n",
        "# Model builder function\n",
        "def build_model(hp):\n",
        "    model = Sequential()\n",
        "    model.add(Embedding(input_dim=len(tokenizer.word_index) + 1, output_dim=hp.Int('embedding_output_dim', min_value=64, max_value=128, step=32), input_length=max_length))\n",
        "    model.add(LSTM(units=hp.Int('rnn_units', min_value=128, max_value=256, step=64)))\n",
        "    model.add(Dense(3, activation='softmax'))\n",
        "    model.compile(optimizer='adam', loss='categorical_crossentropy', metrics=['accuracy'])\n",
        "    return model\n",
        "\n",
        "# Instantiate the tuner\n",
        "tuner = kt.Hyperband(\n",
        "    build_model,\n",
        "    objective='val_accuracy',\n",
        "    max_epochs=10,  # Number of trials to run\n",
        "    factor=3,  # Number of models to train per trial\n",
        "    directory='my_dir',  # Directory to store the tuning logs\n",
        "    project_name='keras_lstm_tuning'\n",
        ")\n",
        "\n",
        "# Instantiate the callbacks\n",
        "time_history = TimeHistory()\n",
        "early_stopping = EarlyStopping(monitor='val_loss', patience=3, verbose=1)\n",
        "\n",
        "tuner.search(train_seq_padded, train_labels,\n",
        "             epochs=10,\n",
        "             validation_data=(val_seq_padded, val_labels),\n",
        "             callbacks=[early_stopping, time_history])\n",
        "\n",
        "\n",
        "# Get the optimal hyperparameters\n",
        "best_hps = tuner.get_best_hyperparameters(num_trials=1)[0]\n",
        "\n",
        "print(f\"\"\"\n",
        "The hyperparameter search is complete. The optimal number of units in the first densely-connected\n",
        "layer is {best_hps.get('rnn_units')} and the optimal output dimension of the Embedding layer is {best_hps.get('embedding_output_dim')}.\n",
        "\"\"\")\n",
        "\n",
        "# Build the model with the optimal hyperparameters and train it\n",
        "model = tuner.hypermodel.build(best_hps)\n",
        "model.fit(train_seq_padded, train_labels, epochs=10, validation_data=(val_seq_padded, val_labels),callbacks=[early_stopping, time_history],batch_size=512)\n",
        "\n",
        "# Evaluate the model\n",
        "loss, accuracy = model.evaluate(test_seq_padded, test_labels)\n",
        "print(f'Test Accuracy: {accuracy:.4f}')\n"
      ],
      "metadata": {
        "colab": {
          "base_uri": "https://localhost:8080/"
        },
        "id": "Q6i7_SlTv9gj",
        "outputId": "e262c294-6b80-4156-a7cd-b27b84335674"
      },
      "execution_count": 9,
      "outputs": [
        {
          "output_type": "stream",
          "name": "stdout",
          "text": [
            "Trial 9 Complete [00h 01m 13s]\n",
            "val_accuracy: 0.6874159574508667\n",
            "\n",
            "Best val_accuracy So Far: 0.7016330361366272\n",
            "Total elapsed time: 00h 12m 04s\n",
            "\n",
            "The hyperparameter search is complete. The optimal number of units in the first densely-connected\n",
            "layer is 192 and the optimal output dimension of the Embedding layer is 96.\n",
            "\n",
            "Epoch 1/10\n",
            "61/61 [==============================] - 16s 227ms/step - loss: 1.0103 - accuracy: 0.4831 - val_loss: 0.8488 - val_accuracy: 0.5963\n",
            "Epoch 2/10\n",
            "61/61 [==============================] - 12s 204ms/step - loss: 0.8140 - accuracy: 0.6516 - val_loss: 0.7694 - val_accuracy: 0.6640\n",
            "Epoch 3/10\n",
            "61/61 [==============================] - 9s 151ms/step - loss: 0.5927 - accuracy: 0.7630 - val_loss: 0.7701 - val_accuracy: 0.6713\n",
            "Epoch 4/10\n",
            "61/61 [==============================] - 8s 134ms/step - loss: 0.4659 - accuracy: 0.8238 - val_loss: 0.8262 - val_accuracy: 0.6630\n",
            "Epoch 5/10\n",
            "61/61 [==============================] - 8s 140ms/step - loss: 0.3743 - accuracy: 0.8639 - val_loss: 0.9040 - val_accuracy: 0.6542\n",
            "Epoch 5: early stopping\n",
            "163/163 [==============================] - 1s 9ms/step - loss: 0.8878 - accuracy: 0.6589\n",
            "Test Accuracy: 0.6589\n"
          ]
        }
      ]
    },
    {
      "cell_type": "code",
      "source": [
        "import matplotlib.pyplot as plt\n",
        "\n",
        "plt.plot(global_epoch_times)\n",
        "plt.xlabel('Epochs across all trials')\n",
        "plt.ylabel('Average Time per Batch (s)')\n",
        "plt.title('Batch Times Across All Trials and Epochs')\n",
        "# Save the plot to the Colab VM\n",
        "plt.savefig('lstm_batch_times.png')\n",
        "\n",
        "# If using Google Colab and want to save it to Google Drive\n",
        "from google.colab import drive\n",
        "drive.mount('/content/drive')\n",
        "plot_path = '/content/drive/My Drive/best_model_final_project/lstm_batch_times.png'\n",
        "plt.savefig(plot_path)\n",
        "plt.show()\n"
      ],
      "metadata": {
        "id": "8M3kSEa33AyZ",
        "colab": {
          "base_uri": "https://localhost:8080/",
          "height": 489
        },
        "outputId": "a24c9bb1-15f8-4c0d-9014-b7468abb4147"
      },
      "execution_count": 10,
      "outputs": [
        {
          "output_type": "stream",
          "name": "stdout",
          "text": [
            "Drive already mounted at /content/drive; to attempt to forcibly remount, call drive.mount(\"/content/drive\", force_remount=True).\n"
          ]
        },
        {
          "output_type": "display_data",
          "data": {
            "text/plain": [
              "<Figure size 640x480 with 1 Axes>"
            ],
            "image/png": "[encoded data removed]"
          },
          "metadata": {}
        }
      ]
    },
    {
      "cell_type": "code",
      "source": [
        "import pickle\n",
        "\n",
        "# Serialize and save the variable to a file\n",
        "with open('/content/drive/My Drive/best_model_final_project/lstm_global_epoch_times.pkl', 'wb') as f:\n",
        "    pickle.dump(global_epoch_times, f)\n"
      ],
      "metadata": {
        "id": "m-tY9UEtcSvc"
      },
      "execution_count": 11,
      "outputs": []
    },
    {
      "cell_type": "code",
      "source": [
        "# Assuming test_seq_padded and test_labels are your test sequences and labels\n",
        "loss, accuracy = model.evaluate(test_seq_padded, test_labels)\n",
        "print(f'Test Loss: {loss:.4f}')\n",
        "print(f'Test Accuracy: {accuracy:.4f}')\n"
      ],
      "metadata": {
        "colab": {
          "base_uri": "https://localhost:8080/"
        },
        "id": "-HaJKz8lH3Lc",
        "outputId": "e9eb20b6-41c8-4dfb-fb10-02e15e419bd3"
      },
      "execution_count": 12,
      "outputs": [
        {
          "output_type": "stream",
          "name": "stdout",
          "text": [
            "163/163 [==============================] - 2s 9ms/step - loss: 0.8878 - accuracy: 0.6589\n",
            "Test Loss: 0.8878\n",
            "Test Accuracy: 0.6589\n"
          ]
        }
      ]
    },
    {
      "cell_type": "code",
      "source": [
        "from sklearn.metrics import classification_report, confusion_matrix\n",
        "import numpy as np\n",
        "# Predict the test set\n",
        "predictions = model.predict(test_seq_padded)\n",
        "predicted_classes = np.argmax(predictions, axis=1)\n",
        "true_classes = np.argmax(test_labels, axis=1)\n",
        "\n",
        "# Calculate additional metrics\n",
        "print(classification_report(true_classes, predicted_classes))\n",
        "print(confusion_matrix(true_classes, predicted_classes))\n"
      ],
      "metadata": {
        "colab": {
          "base_uri": "https://localhost:8080/"
        },
        "id": "LhRvLZmGH8ky",
        "outputId": "275bfae0-c5b3-44c5-dbfe-448d03ed45d9"
      },
      "execution_count": 13,
      "outputs": [
        {
          "output_type": "stream",
          "name": "stdout",
          "text": [
            "163/163 [==============================] - 2s 12ms/step\n",
            "              precision    recall  f1-score   support\n",
            "\n",
            "           0       0.67      0.64      0.66      1546\n",
            "           1       0.61      0.57      0.59      1930\n",
            "           2       0.69      0.78      0.73      1730\n",
            "\n",
            "    accuracy                           0.66      5206\n",
            "   macro avg       0.66      0.66      0.66      5206\n",
            "weighted avg       0.66      0.66      0.66      5206\n",
            "\n",
            "[[ 995  406  145]\n",
            " [ 389 1093  448]\n",
            " [  96  292 1342]]\n"
          ]
        }
      ]
    },
    {
      "cell_type": "code",
      "source": [
        "# Evaluate the model on the negative subset\n",
        "negative_loss, negative_accuracy = model.evaluate(negative_test_seq_padded, negative_test_labels)\n",
        "print(f'Negative Test Accuracy: {negative_accuracy:.4f}')\n",
        "\n",
        "# Evaluate the model on the neutral subset\n",
        "neutral_loss, neutral_accuracy = model.evaluate(neutral_test_seq_padded, neutral_test_labels)\n",
        "print(f'Neutral Test Accuracy: {neutral_accuracy:.4f}')\n",
        "\n",
        "# Evaluate the model on the positive subset\n",
        "positive_loss, positive_accuracy = model.evaluate(positive_test_seq_padded, positive_test_labels)\n",
        "print(f'Positive Test Accuracy: {positive_accuracy:.4f}')\n"
      ],
      "metadata": {
        "colab": {
          "base_uri": "https://localhost:8080/"
        },
        "id": "i71_oT9Kar7O",
        "outputId": "51e7c77f-92ed-4bcb-8e88-597b45df3b85"
      },
      "execution_count": 14,
      "outputs": [
        {
          "output_type": "stream",
          "name": "stdout",
          "text": [
            "49/49 [==============================] - 1s 14ms/step - loss: 0.9559 - accuracy: 0.6436\n",
            "Negative Test Accuracy: 0.6436\n",
            "61/61 [==============================] - 1s 13ms/step - loss: 1.0669 - accuracy: 0.5663\n",
            "Neutral Test Accuracy: 0.5663\n",
            "55/55 [==============================] - 1s 9ms/step - loss: 0.6273 - accuracy: 0.7757\n",
            "Positive Test Accuracy: 0.7757\n"
          ]
        }
      ]
    },
    {
      "cell_type": "code",
      "source": [
        "from sklearn.metrics import classification_report\n",
        "\n",
        "# Predict on each subset\n",
        "negative_predictions = model.predict(negative_test_seq_padded)\n",
        "neutral_predictions = model.predict(neutral_test_seq_padded)\n",
        "positive_predictions = model.predict(positive_test_seq_padded)\n",
        "\n",
        "# Convert predictions to discrete labels\n",
        "negative_predicted_labels = np.argmax(negative_predictions, axis=1)\n",
        "neutral_predicted_labels = np.argmax(neutral_predictions, axis=1)\n",
        "positive_predicted_labels = np.argmax(positive_predictions, axis=1)\n",
        "\n",
        "# Calculate classification report for each\n",
        "print('Classification Report for Negative Subset:')\n",
        "print(classification_report(np.argmax(negative_test_labels, axis=1), negative_predicted_labels))\n",
        "\n",
        "print('Classification Report for Neutral Subset:')\n",
        "print(classification_report(np.argmax(neutral_test_labels, axis=1), neutral_predicted_labels))\n",
        "\n",
        "print('Classification Report for Positive Subset:')\n",
        "print(classification_report(np.argmax(positive_test_labels, axis=1), positive_predicted_labels))\n"
      ],
      "metadata": {
        "colab": {
          "base_uri": "https://localhost:8080/"
        },
        "id": "BuAL5LjQa1aP",
        "outputId": "fbbef18b-bccc-4fe6-e314-c60068590965"
      },
      "execution_count": 15,
      "outputs": [
        {
          "output_type": "stream",
          "name": "stdout",
          "text": [
            "49/49 [==============================] - 0s 8ms/step\n",
            "61/61 [==============================] - 1s 8ms/step\n",
            "55/55 [==============================] - 0s 8ms/step\n",
            "Classification Report for Negative Subset:\n",
            "              precision    recall  f1-score   support\n",
            "\n",
            "           0       1.00      0.64      0.78      1546\n",
            "           1       0.00      0.00      0.00         0\n",
            "           2       0.00      0.00      0.00         0\n",
            "\n",
            "    accuracy                           0.64      1546\n",
            "   macro avg       0.33      0.21      0.26      1546\n",
            "weighted avg       1.00      0.64      0.78      1546\n",
            "\n",
            "Classification Report for Neutral Subset:\n",
            "              precision    recall  f1-score   support\n",
            "\n",
            "           0       0.00      0.00      0.00         0\n",
            "           1       1.00      0.57      0.72      1930\n",
            "           2       0.00      0.00      0.00         0\n",
            "\n",
            "    accuracy                           0.57      1930\n",
            "   macro avg       0.33      0.19      0.24      1930\n",
            "weighted avg       1.00      0.57      0.72      1930\n",
            "\n",
            "Classification Report for Positive Subset:\n",
            "              precision    recall  f1-score   support\n",
            "\n",
            "           0       0.00      0.00      0.00         0\n",
            "           1       0.00      0.00      0.00         0\n",
            "           2       1.00      0.78      0.87      1730\n",
            "\n",
            "    accuracy                           0.78      1730\n",
            "   macro avg       0.33      0.26      0.29      1730\n",
            "weighted avg       1.00      0.78      0.87      1730\n",
            "\n"
          ]
        },
        {
          "output_type": "stream",
          "name": "stderr",
          "text": [
            "/usr/local/lib/python3.10/dist-packages/sklearn/metrics/_classification.py:1344: UndefinedMetricWarning: Recall and F-score are ill-defined and being set to 0.0 in labels with no true samples. Use `zero_division` parameter to control this behavior.\n",
            "  _warn_prf(average, modifier, msg_start, len(result))\n",
            "/usr/local/lib/python3.10/dist-packages/sklearn/metrics/_classification.py:1344: UndefinedMetricWarning: Recall and F-score are ill-defined and being set to 0.0 in labels with no true samples. Use `zero_division` parameter to control this behavior.\n",
            "  _warn_prf(average, modifier, msg_start, len(result))\n",
            "/usr/local/lib/python3.10/dist-packages/sklearn/metrics/_classification.py:1344: UndefinedMetricWarning: Recall and F-score are ill-defined and being set to 0.0 in labels with no true samples. Use `zero_division` parameter to control this behavior.\n",
            "  _warn_prf(average, modifier, msg_start, len(result))\n",
            "/usr/local/lib/python3.10/dist-packages/sklearn/metrics/_classification.py:1344: UndefinedMetricWarning: Recall and F-score are ill-defined and being set to 0.0 in labels with no true samples. Use `zero_division` parameter to control this behavior.\n",
            "  _warn_prf(average, modifier, msg_start, len(result))\n",
            "/usr/local/lib/python3.10/dist-packages/sklearn/metrics/_classification.py:1344: UndefinedMetricWarning: Recall and F-score are ill-defined and being set to 0.0 in labels with no true samples. Use `zero_division` parameter to control this behavior.\n",
            "  _warn_prf(average, modifier, msg_start, len(result))\n",
            "/usr/local/lib/python3.10/dist-packages/sklearn/metrics/_classification.py:1344: UndefinedMetricWarning: Recall and F-score are ill-defined and being set to 0.0 in labels with no true samples. Use `zero_division` parameter to control this behavior.\n",
            "  _warn_prf(average, modifier, msg_start, len(result))\n",
            "/usr/local/lib/python3.10/dist-packages/sklearn/metrics/_classification.py:1344: UndefinedMetricWarning: Recall and F-score are ill-defined and being set to 0.0 in labels with no true samples. Use `zero_division` parameter to control this behavior.\n",
            "  _warn_prf(average, modifier, msg_start, len(result))\n",
            "/usr/local/lib/python3.10/dist-packages/sklearn/metrics/_classification.py:1344: UndefinedMetricWarning: Recall and F-score are ill-defined and being set to 0.0 in labels with no true samples. Use `zero_division` parameter to control this behavior.\n",
            "  _warn_prf(average, modifier, msg_start, len(result))\n",
            "/usr/local/lib/python3.10/dist-packages/sklearn/metrics/_classification.py:1344: UndefinedMetricWarning: Recall and F-score are ill-defined and being set to 0.0 in labels with no true samples. Use `zero_division` parameter to control this behavior.\n",
            "  _warn_prf(average, modifier, msg_start, len(result))\n"
          ]
        }
      ]
    },
    {
      "cell_type": "code",
      "source": [
        "# Save the entire model to a file\n",
        "model.save('my_lstm_model.h5')  # Saves to the Colab VM\n",
        "\n",
        "# If using Google Colab, save it to Google Drive by mounting the drive first\n",
        "from google.colab import drive\n",
        "drive.mount('/content/drive')\n",
        "model_path = '/content/drive/My Drive/best_model_final_project/my_lstm_model.h5'\n",
        "model.save(model_path)\n"
      ],
      "metadata": {
        "colab": {
          "base_uri": "https://localhost:8080/"
        },
        "id": "9Qflw7LTY2rD",
        "outputId": "4ee486d9-c7b9-480f-d66a-a23b4f98bba8"
      },
      "execution_count": 16,
      "outputs": [
        {
          "output_type": "stream",
          "name": "stderr",
          "text": [
            "/usr/local/lib/python3.10/dist-packages/keras/src/engine/training.py:3103: UserWarning: You are saving your model as an HDF5 file via `model.save()`. This file format is considered legacy. We recommend using instead the native Keras format, e.g. `model.save('my_model.keras')`.\n",
            "  saving_api.save_model(\n"
          ]
        },
        {
          "output_type": "stream",
          "name": "stdout",
          "text": [
            "Drive already mounted at /content/drive; to attempt to forcibly remount, call drive.mount(\"/content/drive\", force_remount=True).\n"
          ]
        }
      ]
    }
  ]
}