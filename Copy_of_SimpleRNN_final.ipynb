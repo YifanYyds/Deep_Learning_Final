{
  "cells": [
    {
      "cell_type": "markdown",
      "metadata": {
        "id": "view-in-github",
        "colab_type": "text"
      },
      "source": [
        "<a href=\"https://colab.research.google.com/github/YifanYyds/Deep_Learning_Final/blob/main/Copy_of_SimpleRNN_final.ipynb\" target=\"_parent\"><img src=\"https://colab.research.google.com/assets/colab-badge.svg\" alt=\"Open In Colab\"/></a>"
      ]
    },
    {
      "cell_type": "code",
      "execution_count": null,
      "metadata": {
        "colab": {
          "base_uri": "https://localhost:8080/"
        },
        "id": "STB00sbUvXGT",
        "outputId": "6e23a4a8-e7d3-4c27-eaa9-0ca24e2c4cd6"
      },
      "outputs": [
        {
          "name": "stdout",
          "output_type": "stream",
          "text": [
            "Mounted at /content/drive\n"
          ]
        }
      ],
      "source": [
        "import pandas as pd\n",
        "from google.colab import drive\n",
        "drive.mount('/content/drive')\n",
        "train_df = pd.read_csv(\"/content/drive/MyDrive/DL_dataset/train_df.csv\", header=0, delimiter=\",\")\n",
        "val_df = pd.read_csv(\"/content/drive/MyDrive/DL_dataset/val_df.csv\", header=0, delimiter=\",\")\n",
        "test_df = pd.read_csv(\"/content/drive/MyDrive/DL_dataset/test_df.csv\", header=0, delimiter=\",\")\n"
      ]
    },
    {
      "cell_type": "code",
      "execution_count": null,
      "metadata": {
        "id": "mUgI6bp_Lv3M"
      },
      "outputs": [],
      "source": [
        "import shutil\n",
        "import os\n",
        "\n",
        "# Check if the directory exists\n",
        "if os.path.exists('my_dir/keras_simple_rnn_tuning'):\n",
        "    # If it exists, delete it\n",
        "    shutil.rmtree('my_dir/keras_simple_rnn_tuning')\n"
      ]
    },
    {
      "cell_type": "code",
      "execution_count": null,
      "metadata": {
        "colab": {
          "base_uri": "https://localhost:8080/"
        },
        "id": "y9Vi1FCRwlbT",
        "outputId": "08ae1772-575c-40c3-9760-ce309638495f"
      },
      "outputs": [
        {
          "name": "stdout",
          "output_type": "stream",
          "text": [
            "Collecting keras-tuner\n",
            "  Downloading keras_tuner-1.4.6-py3-none-any.whl (128 kB)\n",
            "\u001b[?25l     \u001b[90m━━━━━━━━━━━━━━━━━━━━━━━━━━━━━━━━━━━━━━━━\u001b[0m \u001b[32m0.0/128.9 kB\u001b[0m \u001b[31m?\u001b[0m eta \u001b[36m-:--:--\u001b[0m\r\u001b[2K     \u001b[91m━━━━━━━━━━━━━━━━━━━━━━━━━━━━━━━━━━━━━━\u001b[0m\u001b[90m╺\u001b[0m\u001b[90m━\u001b[0m \u001b[32m122.9/128.9 kB\u001b[0m \u001b[31m3.8 MB/s\u001b[0m eta \u001b[36m0:00:01\u001b[0m\r\u001b[2K     \u001b[90m━━━━━━━━━━━━━━━━━━━━━━━━━━━━━━━━━━━━━━━━\u001b[0m \u001b[32m128.9/128.9 kB\u001b[0m \u001b[31m3.3 MB/s\u001b[0m eta \u001b[36m0:00:00\u001b[0m\n",
            "\u001b[?25hRequirement already satisfied: keras in /usr/local/lib/python3.10/dist-packages (from keras-tuner) (2.15.0)\n",
            "Requirement already satisfied: packaging in /usr/local/lib/python3.10/dist-packages (from keras-tuner) (23.2)\n",
            "Requirement already satisfied: requests in /usr/local/lib/python3.10/dist-packages (from keras-tuner) (2.31.0)\n",
            "Collecting kt-legacy (from keras-tuner)\n",
            "  Downloading kt_legacy-1.0.5-py3-none-any.whl (9.6 kB)\n",
            "Requirement already satisfied: charset-normalizer<4,>=2 in /usr/local/lib/python3.10/dist-packages (from requests->keras-tuner) (3.3.2)\n",
            "Requirement already satisfied: idna<4,>=2.5 in /usr/local/lib/python3.10/dist-packages (from requests->keras-tuner) (3.6)\n",
            "Requirement already satisfied: urllib3<3,>=1.21.1 in /usr/local/lib/python3.10/dist-packages (from requests->keras-tuner) (2.0.7)\n",
            "Requirement already satisfied: certifi>=2017.4.17 in /usr/local/lib/python3.10/dist-packages (from requests->keras-tuner) (2023.11.17)\n",
            "Installing collected packages: kt-legacy, keras-tuner\n",
            "Successfully installed keras-tuner-1.4.6 kt-legacy-1.0.5\n"
          ]
        }
      ],
      "source": [
        "!pip install keras-tuner\n"
      ]
    },
    {
      "cell_type": "code",
      "execution_count": null,
      "metadata": {
        "id": "dpaRzsz3ragP"
      },
      "outputs": [],
      "source": [
        "import pandas as pd\n",
        "from keras.preprocessing.text import Tokenizer\n",
        "from keras.preprocessing.sequence import pad_sequences\n",
        "from keras.utils import to_categorical\n",
        "from keras.models import Sequential\n",
        "from keras.layers import Embedding, Dense, LSTM, SimpleRNN\n",
        "from keras.callbacks import EarlyStopping\n",
        "\n",
        "# Prepare the tokenizer\n",
        "tokenizer = Tokenizer()\n",
        "tokenizer.fit_on_texts(train_df['text'])\n",
        "\n",
        "# Ensure all text data is string and handle missing values\n",
        "train_df['text'] = train_df['text'].astype(str)\n",
        "val_df['text'] = val_df['text'].astype(str)\n",
        "test_df['text'] = test_df['text'].astype(str)\n",
        "\n",
        "# Convert texts to sequences\n",
        "train_seq = tokenizer.texts_to_sequences(train_df['text'])\n",
        "val_seq = tokenizer.texts_to_sequences(val_df['text'])\n",
        "test_seq = tokenizer.texts_to_sequences(test_df['text'])\n",
        "\n",
        "# Pad sequences\n",
        "max_length = max(max(len(x) for x in train_seq), max(len(x) for x in val_seq), max(len(x) for x in test_seq))\n",
        "train_seq_padded = pad_sequences(train_seq, maxlen=max_length)\n",
        "val_seq_padded = pad_sequences(val_seq, maxlen=max_length)\n",
        "test_seq_padded = pad_sequences(test_seq, maxlen=max_length)\n",
        "\n",
        "# Convert labels to one-hot encoding\n",
        "train_labels = to_categorical(train_df['label'])\n",
        "val_labels = to_categorical(val_df['label'])\n",
        "test_labels = to_categorical(test_df['label'])\n"
      ]
    },
    {
      "cell_type": "code",
      "execution_count": null,
      "metadata": {
        "id": "x2IbGLW5wDBK"
      },
      "outputs": [],
      "source": [
        "import time\n",
        "from keras.callbacks import Callback\n",
        "global_epoch_times = []\n",
        "\n",
        "class TimeHistory(Callback):\n",
        "    def __init__(self):\n",
        "        super(TimeHistory, self).__init__()\n",
        "        self.times = []\n",
        "\n",
        "    def on_train_batch_begin(self, batch, logs=None):\n",
        "        self.batch_time_start = time.time()\n",
        "\n",
        "    def on_train_batch_end(self, batch, logs=None):\n",
        "        self.times.append(time.time() - self.batch_time_start)\n",
        "\n",
        "    def on_epoch_end(self, epoch, logs=None):\n",
        "        average_time_per_batch = sum(self.times) / len(self.times)\n",
        "        global_epoch_times.append(average_time_per_batch)  # Append to the global list\n",
        "        self.times = []  # Reset for the next epoch\n"
      ]
    },
    {
      "cell_type": "code",
      "execution_count": null,
      "metadata": {
        "colab": {
          "background_save": true,
          "base_uri": "https://localhost:8080/"
        },
        "id": "Q6i7_SlTv9gj",
        "outputId": "00183fc2-a04e-4772-c9e7-6b80d6e11603"
      },
      "outputs": [
        {
          "name": "stdout",
          "output_type": "stream",
          "text": [
            "Trial 9 Complete [00h 11m 24s]\n",
            "val_accuracy: 0.5458213090896606\n",
            "\n",
            "Best val_accuracy So Far: 0.6205571293830872\n",
            "Total elapsed time: 01h 50m 34s\n",
            "\n",
            "The hyperparameter search is complete. The optimal number of units in the first densely-connected\n",
            "layer is 128 and the optimal output dimension of the Embedding layer is 128.\n",
            "\n",
            "Epoch 1/10\n",
            "61/61 [==============================] - 28s 433ms/step - loss: 1.0706 - accuracy: 0.4112 - val_loss: 1.0083 - val_accuracy: 0.5112\n",
            "Epoch 2/10\n",
            "61/61 [==============================] - 27s 448ms/step - loss: 0.7872 - accuracy: 0.6832 - val_loss: 0.8702 - val_accuracy: 0.5927\n",
            "Epoch 3/10\n",
            "61/61 [==============================] - 22s 364ms/step - loss: 0.4924 - accuracy: 0.8291 - val_loss: 0.8704 - val_accuracy: 0.6236\n",
            "Epoch 4/10\n",
            "61/61 [==============================] - 23s 375ms/step - loss: 0.2462 - accuracy: 0.9261 - val_loss: 0.9851 - val_accuracy: 0.6211\n",
            "Epoch 5/10\n",
            "61/61 [==============================] - 23s 377ms/step - loss: 0.1279 - accuracy: 0.9661 - val_loss: 1.1302 - val_accuracy: 0.6094\n",
            "Epoch 5: early stopping\n",
            "163/163 [==============================] - 5s 33ms/step - loss: 1.1302 - accuracy: 0.6035\n",
            "Test Accuracy: 0.6035\n"
          ]
        }
      ],
      "source": [
        "import keras_tuner as kt\n",
        "# Model builder function\n",
        "def build_model(hp):\n",
        "    model = Sequential()\n",
        "    model.add(Embedding(input_dim=len(tokenizer.word_index) + 1, output_dim=hp.Int('embedding_output_dim', min_value=64, max_value=128, step=32), input_length=max_length))\n",
        "    model.add(SimpleRNN(units=hp.Int('rnn_units', min_value=128, max_value=256, step=64)))\n",
        "    model.add(Dense(3, activation='softmax'))\n",
        "    model.compile(optimizer='adam', loss='categorical_crossentropy', metrics=['accuracy'])\n",
        "    return model\n",
        "\n",
        "# Instantiate the tuner\n",
        "tuner = kt.Hyperband(\n",
        "    build_model,\n",
        "    objective='val_accuracy',\n",
        "    max_epochs=10,  # Number of trials to run\n",
        "    factor=3,  # Number of models to train per trial\n",
        "    directory='my_dir',  # Directory to store the tuning logs\n",
        "    project_name='keras_simple_rnn_tuning'\n",
        ")\n",
        "\n",
        "# Instantiate the callbacks\n",
        "time_history = TimeHistory()\n",
        "early_stopping = EarlyStopping(monitor='val_loss', patience=3, verbose=1)\n",
        "\n",
        "tuner.search(train_seq_padded, train_labels,\n",
        "             epochs=10,\n",
        "             validation_data=(val_seq_padded, val_labels),\n",
        "             callbacks=[early_stopping, time_history])\n",
        "\n",
        "\n",
        "# Get the optimal hyperparameters\n",
        "best_hps = tuner.get_best_hyperparameters(num_trials=1)[0]\n",
        "\n",
        "print(f\"\"\"\n",
        "The hyperparameter search is complete. The optimal number of units in the first densely-connected\n",
        "layer is {best_hps.get('rnn_units')} and the optimal output dimension of the Embedding layer is {best_hps.get('embedding_output_dim')}.\n",
        "\"\"\")\n",
        "\n",
        "# Build the model with the optimal hyperparameters and train it\n",
        "model = tuner.hypermodel.build(best_hps)\n",
        "model.fit(train_seq_padded, train_labels, epochs=10, validation_data=(val_seq_padded, val_labels),callbacks=[early_stopping, time_history],batch_size=512)\n",
        "\n",
        "# Evaluate the model\n",
        "loss, accuracy = model.evaluate(test_seq_padded, test_labels)\n",
        "print(f'Test Accuracy: {accuracy:.4f}')"
      ]
    },
    {
      "cell_type": "code",
      "execution_count": null,
      "metadata": {
        "colab": {
          "background_save": true
        },
        "id": "8M3kSEa33AyZ",
        "outputId": "3fd7f72c-9ede-48f1-fc7b-90bc16d360be"
      },
      "outputs": [
        {
          "data": {
            "image/png": "[encoded data removed]",
            "text/plain": [
              "<Figure size 640x480 with 1 Axes>"
            ]
          },
          "metadata": {},
          "output_type": "display_data"
        }
      ],
      "source": [
        "import matplotlib.pyplot as plt\n",
        "\n",
        "plt.plot(global_epoch_times)\n",
        "plt.xlabel('Epochs across all trials')\n",
        "plt.ylabel('Average Time per Batch (s)')\n",
        "plt.title('Batch Times Across All Trials and Epochs')\n",
        "# Save the plot to the Colab VM\n",
        "plt.savefig('rnn_batch_times.png')\n",
        "\n",
        "# If using Google Colab and want to save it to Google Drive\n",
        "from google.colab import drive\n",
        "drive.mount('/content/drive')\n",
        "plot_path = '/content/drive/My Drive/rnn_batch_times.png'\n",
        "plt.savefig(plot_path)\n",
        "plt.show()\n"
      ]
    },
    {
      "cell_type": "code",
      "execution_count": null,
      "metadata": {
        "colab": {
          "background_save": true
        },
        "id": "_6oLlKUecchE"
      },
      "outputs": [],
      "source": [
        "import pickle\n",
        "\n",
        "# Serialize and save the variable to a file\n",
        "with open('/content/drive/My Drive/global_epoch_times.pkl', 'wb') as f:\n",
        "    pickle.dump(global_epoch_times, f)\n"
      ]
    },
    {
      "cell_type": "code",
      "execution_count": null,
      "metadata": {
        "colab": {
          "background_save": true
        },
        "id": "83QjVrRHSJzb",
        "outputId": "d96d2d9b-0a05-4f4f-8963-6c49e0373fec"
      },
      "outputs": [
        {
          "name": "stdout",
          "output_type": "stream",
          "text": [
            "163/163 [==============================] - 6s 40ms/step - loss: 1.1302 - accuracy: 0.6035\n",
            "Test Loss: 1.1302\n",
            "Test Accuracy: 0.6035\n"
          ]
        }
      ],
      "source": [
        "# Assuming test_seq_padded and test_labels are your test sequences and labels\n",
        "loss, accuracy = model.evaluate(test_seq_padded, test_labels)\n",
        "print(f'Test Loss: {loss:.4f}')\n",
        "print(f'Test Accuracy: {accuracy:.4f}')\n"
      ]
    },
    {
      "cell_type": "code",
      "execution_count": null,
      "metadata": {
        "colab": {
          "base_uri": "https://localhost:8080/",
          "height": 245
        },
        "id": "rOkBimoRSMDe",
        "outputId": "e4e3f8cd-379b-4024-fc52-edd16f630889"
      },
      "outputs": [
        {
          "output_type": "error",
          "ename": "NameError",
          "evalue": "ignored",
          "traceback": [
            "\u001b[0;31m---------------------------------------------------------------------------\u001b[0m",
            "\u001b[0;31mNameError\u001b[0m                                 Traceback (most recent call last)",
            "\u001b[0;32m<ipython-input-1-eb5913305e89>\u001b[0m in \u001b[0;36m<cell line: 4>\u001b[0;34m()\u001b[0m\n\u001b[1;32m      2\u001b[0m \u001b[0;32mimport\u001b[0m \u001b[0mnumpy\u001b[0m \u001b[0;32mas\u001b[0m \u001b[0mnp\u001b[0m\u001b[0;34m\u001b[0m\u001b[0;34m\u001b[0m\u001b[0m\n\u001b[1;32m      3\u001b[0m \u001b[0;31m# Predict the test set\u001b[0m\u001b[0;34m\u001b[0m\u001b[0;34m\u001b[0m\u001b[0m\n\u001b[0;32m----> 4\u001b[0;31m \u001b[0mpredictions\u001b[0m \u001b[0;34m=\u001b[0m \u001b[0mmodel\u001b[0m\u001b[0;34m.\u001b[0m\u001b[0mpredict\u001b[0m\u001b[0;34m(\u001b[0m\u001b[0mtest_seq_padded\u001b[0m\u001b[0;34m)\u001b[0m\u001b[0;34m\u001b[0m\u001b[0;34m\u001b[0m\u001b[0m\n\u001b[0m\u001b[1;32m      5\u001b[0m \u001b[0mpredicted_classes\u001b[0m \u001b[0;34m=\u001b[0m \u001b[0mnp\u001b[0m\u001b[0;34m.\u001b[0m\u001b[0margmax\u001b[0m\u001b[0;34m(\u001b[0m\u001b[0mpredictions\u001b[0m\u001b[0;34m,\u001b[0m \u001b[0maxis\u001b[0m\u001b[0;34m=\u001b[0m\u001b[0;36m1\u001b[0m\u001b[0;34m)\u001b[0m\u001b[0;34m\u001b[0m\u001b[0;34m\u001b[0m\u001b[0m\n\u001b[1;32m      6\u001b[0m \u001b[0mtrue_classes\u001b[0m \u001b[0;34m=\u001b[0m \u001b[0mnp\u001b[0m\u001b[0;34m.\u001b[0m\u001b[0margmax\u001b[0m\u001b[0;34m(\u001b[0m\u001b[0mtest_labels\u001b[0m\u001b[0;34m,\u001b[0m \u001b[0maxis\u001b[0m\u001b[0;34m=\u001b[0m\u001b[0;36m1\u001b[0m\u001b[0;34m)\u001b[0m\u001b[0;34m\u001b[0m\u001b[0;34m\u001b[0m\u001b[0m\n",
            "\u001b[0;31mNameError\u001b[0m: name 'model' is not defined"
          ]
        }
      ],
      "source": [
        "from sklearn.metrics import classification_report, confusion_matrix\n",
        "import numpy as np\n",
        "# Predict the test set\n",
        "predictions = model.predict(test_seq_padded)\n",
        "predicted_classes = np.argmax(predictions, axis=1)\n",
        "true_classes = np.argmax(test_labels, axis=1)\n",
        "\n",
        "# Calculate additional metrics\n",
        "print(classification_report(true_classes, predicted_classes))\n",
        "print(confusion_matrix(true_classes, predicted_classes))\n"
      ]
    },
    {
      "cell_type": "code",
      "execution_count": null,
      "metadata": {
        "colab": {
          "background_save": true
        },
        "id": "BFrKhYLJXZIj"
      },
      "outputs": [],
      "source": [
        "# Save the entire model to a file\n",
        "model.save('my_rnn_model.h5')  # Saves to the Colab VM\n",
        "\n",
        "# If using Google Colab, save it to Google Drive by mounting the drive first\n",
        "from google.colab import drive\n",
        "drive.mount('/content/drive')\n",
        "model_path = '/content/drive/My Drive/my_rnn_model.h5'\n",
        "model.save(model_path)\n"
      ]
    }
  ],
  "metadata": {
    "accelerator": "GPU",
    "colab": {
      "provenance": [],
      "authorship_tag": "ABX9TyO0v1zztOuGnLohPa4Rm0oZ",
      "include_colab_link": true
    },
    "kernelspec": {
      "display_name": "Python 3",
      "name": "python3"
    },
    "language_info": {
      "name": "python"
    }
  },
  "nbformat": 4,
  "nbformat_minor": 0
}